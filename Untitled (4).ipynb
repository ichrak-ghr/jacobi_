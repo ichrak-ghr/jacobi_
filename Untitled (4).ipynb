{
 "cells": [
  {
   "cell_type": "markdown",
   "id": "eb28576e-2afb-4173-9ccf-03d7e218ebc1",
   "metadata": {},
   "source": [
    "# Jacobi Iterative Method for Solving Linear Systems\n",
    "\n",
    "This project implements the Jacobi iterative method to solve systems of linear equations of the form:\n",
    "\n",
    "$$\n",
    "A \\mathbf{x} = \\mathbf{b}\n",
    "$$\n",
    "\n",
    "\n",
    "\n",
    "where $A$ is a square matrix, $\\mathbf{x}$ is the vector of unknowns, and $\\mathbf{b}$ is the right-hand side vector.\n",
    "\n",
    "Iterative methods like Jacobi are particularly useful when the system is large or sparse, making direct methods inefficient or infeasible.\n",
    "\n",
    "---\n",
    "\n",
    "In this notebook, you will find:\n",
    "\n",
    "- A theoretical explanation of the Jacobi method.  \n",
    "- A step-by-step Python implementation.  \n",
    "- Examples with different matrices and vectors.  \n",
    "- An interactive program allowing you to input your own data and solve the system.\n"
   ]
  },
  {
   "cell_type": "markdown",
   "id": "848ac938-00b3-44dc-9243-45c65a38a1eb",
   "metadata": {},
   "source": [
    "# Jacobi Method Explanation\n",
    "\n",
    "The matrix \\(A\\) can be decomposed as:\n",
    "\n",
    "$$\n",
    "A = D - (L + U)\n",
    "$$\n",
    "\n",
    "where:\n",
    "\n",
    "- \\(D\\) is the diagonal matrix containing the diagonal elements of \\(A\\),\n",
    "- \\(L\\) is the strictly lower triangular part of \\(A\\),\n",
    "- \\(U\\) is the strictly upper triangular part of \\(A\\).\n",
    "\n",
    "The Jacobi iteration updates the solution vector $(\\mathbf{x})$ using:\n",
    "\n",
    "$$\n",
    "\\mathbf{x}^{(k+1)} = D^{-1} \\left( \\mathbf{b} - (L + U) \\mathbf{x}^{(k)} \\right)\n",
    "$$\n",
    "\n",
    "or equivalently:\n",
    "\n",
    "$$\n",
    "\\mathbf{x}^{(k+1)} = H \\mathbf{x}^{(k)} + \\mathbf{C}\n",
    "$$\n",
    "\n",
    "where:\n",
    "\n",
    "$$\n",
    "H = D^{-1}(L + U), \\quad \\mathbf{C} = D^{-1} \\mathbf{b}\n",
    "$$\n",
    "\n",
    "---\n",
    "\n",
    "### Convergence\n",
    "\n",
    "The Jacobi method converges if the spectral radius $\\rho(H)$ satisfies:\n",
    "\n",
    "$$\n",
    "\\rho(H) < 1\n",
    "$$\n",
    "\n",
    "A sufficient condition for convergence is that \\(A\\) is strictly diagonally dominant.\n"
   ]
  },
  {
   "cell_type": "markdown",
   "id": "90126532-1c20-4739-84d0-3670cf67275d",
   "metadata": {},
   "source": [
    "# Theorem: Convergence of the General Iterative Method\n",
    "\n",
    "The general iterative method\n",
    "\n",
    "$$\n",
    "\\mathbf{x}^{(k+1)} = H \\mathbf{x}^{(k)} + \\mathbf{c}\n",
    "$$\n",
    "\n",
    "is **convergent for any initial guess** \\(\\mathbf{x}^{(0)}\\) **if and only if**\n",
    "\n",
    "$$\n",
    "\\rho(H) < 1\n",
    "$$\n",
    "\n",
    "or equivalently, if and only if there exists **at least one induced norm** such that\n",
    "\n",
    "$$\n",
    "\\|H\\| < 1.\n",
    "$$\n",
    "\n",
    "---\n",
    "\n",
    "### Proof:\n",
    "\n",
    "Let \\(\\mathbf{x}\\) be the exact solution of\n",
    "\n",
    "$$\n",
    "A \\mathbf{x} = \\mathbf{b}.\n",
    "$$\n",
    "\n",
    "From the iteration formula,\n",
    "\n",
    "$$\n",
    "\\mathbf{x}^{(k+1)} - \\mathbf{x} = H \\left(\\mathbf{x}^{(k)} - \\mathbf{x}\\right).\n",
    "$$\n",
    "\n",
    "Iterating this relation, we get:\n",
    "\n",
    "$$\n",
    "\\mathbf{x}^{(k+1)} - \\mathbf{x} = H^{k+1} \\left(\\mathbf{x}^{(0)} - \\mathbf{x}\\right).\n",
    "$$\n",
    "\n",
    "Since $\\rho(H)$ < 1\\, it follows from matrix theory that\n",
    "\n",
    "$$\n",
    "\\lim_{k \\to \\infty} H^k = 0.\n",
    "$$\n",
    "\n",
    "Therefore,\n",
    "\n",
    "$$\n",
    "\\lim_{k \\to \\infty} \\left( \\mathbf{x}^{(k)} - \\mathbf{x} \\right) = \\mathbf{0},\n",
    "$$\n",
    "\n",
    "which shows that the sequence \\(\\{\\mathbf{x}^{(k)}\\}\\) converges to the exact solution \\(\\mathbf{x}\\).\n",
    "\n",
    "---\n",
    "\n",
    "*End of proof.*\n"
   ]
  },
  {
   "cell_type": "markdown",
   "id": "aa5ba5f4-2abc-44b4-882b-effb5911ea9c",
   "metadata": {},
   "source": [
    "# Jacobi Iterative Method: Function Code"
   ]
  },
  {
   "cell_type": "code",
   "execution_count": 38,
   "id": "77059806-7b45-4faf-a294-bf2c7e40d3bd",
   "metadata": {},
   "outputs": [],
   "source": [
    "import numpy as np"
   ]
  },
  {
   "cell_type": "code",
   "execution_count": 93,
   "id": "b812841f-c151-4819-b424-ee25e1f3a802",
   "metadata": {},
   "outputs": [],
   "source": [
    "def Jacobi(A,b,epsilon):\n",
    "    \"\"\" \n",
    "    Solves a system of linear equations Ax = b using the Jacobi iterative method.\n",
    "    Parameters : \n",
    "        A : numpy.ndarray\n",
    "            square matrix\n",
    "        b : numpy.ndarray\n",
    "            vector\n",
    "        epsilon : float\n",
    "            Convergence tolerance.\n",
    "    Returns:\n",
    "        x : numpy.ndarray\n",
    "            Approximate solution vector.\n",
    "    Raises:\n",
    "        ValueError: If the iteration is not convergent (spectral radius >= 1)\n",
    "    \"\"\"\n",
    "\n",
    "    # Extract diagonal elements as a matrix\n",
    "    M = np.diag(np.diag(A))    \n",
    "\n",
    "    # Compute inverse of M once\n",
    "    M_inv = np.linalg.inv(M)\n",
    "    \n",
    "    # Compute N = M - A for iteration formula\n",
    "    N = M - A                  \n",
    "\n",
    "    # Compute iteration matrix H = M^(-1) * N\n",
    "    H = np.linalg.inv(M)@N     \n",
    "\n",
    "    # Compute constant vector C = M^(-1) * b\n",
    "    C =  M_inv@b    \n",
    "    \n",
    "    # Check convergence condition using spectral radius\n",
    "    spectral_radius = max(abs(np.linalg.eigvals(H)))\n",
    "    if spectral_radius >= 1:\n",
    "        raise ValueError(f\"The iteration is not convergent (spectral radius = {spectral_radius} >= 1)\")\n",
    "\n",
    "    # Initialize solution vectors\n",
    "    x_old = np.zeros_like(b)  # Initial guess\n",
    "    x_new = H@x_old + C       # First iteration\n",
    "\n",
    "    # Iterate until convergence\n",
    "    while (np.linalg.norm(x_old - x_new))>epsilon:\n",
    "        x_old = x_new           # update x^(n) to the new value\n",
    "        x_new = H@x_old + C     # compute new x^(n+1) from updated x^(n)\n",
    "    return x_new  "
   ]
  },
  {
   "cell_type": "markdown",
   "id": "dfb6e388-b579-404f-8893-9f3c043e448a",
   "metadata": {},
   "source": [
    "# Examples"
   ]
  },
  {
   "cell_type": "code",
   "execution_count": 95,
   "id": "b41d3445-2e50-4b82-8d78-2308c84189ca",
   "metadata": {},
   "outputs": [
    {
     "name": "stdout",
     "output_type": "stream",
     "text": [
      "Solution vector: [0.1 0.6]\n",
      "Exact solution: [0.1 0.6]\n"
     ]
    }
   ],
   "source": [
    "A1 = np.array([[4, 1],\n",
    "               [2, 3]])\n",
    "b1 = np.array([1, 2])\n",
    "\n",
    "# Solve with Jacobi method\n",
    "x1 = Jacobi(A1, b1, 1e-8)\n",
    "print(\"Solution vector:\", x1)\n",
    "\n",
    "# Verify with numpy.linalg.solve\n",
    "print(\"Exact solution:\", np.linalg.solve(A1, b1))"
   ]
  },
  {
   "cell_type": "code",
   "execution_count": 73,
   "id": "6645fdc6-f3b5-4b67-b307-07d6e6e8fa0e",
   "metadata": {},
   "outputs": [
    {
     "name": "stdout",
     "output_type": "stream",
     "text": [
      "Solution vector: [ 1.  2. -1.  1.]\n",
      "Exact solution : [ 1.  2. -1.  1.]\n"
     ]
    }
   ],
   "source": [
    "A2 = np.array([[10, -1, 2, 0],\n",
    "              [-1, 11, -1, 3],\n",
    "              [2, -1, 10, -1],\n",
    "              [0, 3, -1, 8]])\n",
    "b2 = np.array([6, 25, -11, 15])\n",
    "\n",
    "# Solve with Jacobi method\n",
    "x = Jacobbi(A2, b2, epsilon=1e-8)\n",
    "print(\"Solution vector:\", x)\n",
    "\n",
    "# Verify with numpy.linalg.solve\n",
    "x_exact = np.linalg.solve(A, b)\n",
    "print(\"Exact solution :\", x_exact)\n"
   ]
  },
  {
   "cell_type": "code",
   "execution_count": 97,
   "id": "96e2abe9-8163-4d28-a4f6-f2dd33651894",
   "metadata": {},
   "outputs": [
    {
     "name": "stdout",
     "output_type": "stream",
     "text": [
      "Solution vector: [ 4.28488372  4.75968992  4.03488371 -0.70736433]\n",
      "Exact solution : [ 4.28488372  4.75968992  4.03488372 -0.70736434]\n"
     ]
    }
   ],
   "source": [
    "A3 = np.array([[8, -3, 0, 0],\n",
    "               [-3, 10, -1, 1],\n",
    "               [0, -1, 5, 2],\n",
    "               [0, 1, 2, 4]])\n",
    "b3 = np.array([20, 30, 14, 10])\n",
    "\n",
    "# Solve with Jacobi method\n",
    "x = Jacobi(A3, b3, epsilon=1e-8)\n",
    "print(\"Solution vector:\", x)\n",
    "\n",
    "# Verify with numpy.linalg.solve\n",
    "x_exact = np.linalg.solve(A3, b3)\n",
    "print(\"Exact solution :\", x_exact)\n"
   ]
  },
  {
   "cell_type": "code",
   "execution_count": 77,
   "id": "91439df4-6534-4629-8c45-7d52a1d79993",
   "metadata": {},
   "outputs": [
    {
     "name": "stdout",
     "output_type": "stream",
     "text": [
      "Example 4 error: The iteration is not convergent (spectral radius = 1.2247448713915892 >= 1)\n"
     ]
    }
   ],
   "source": [
    "A4 = np.array([[1, 2],\n",
    "               [3, 4]])\n",
    "b4 = np.array([5, 6])\n",
    "\n",
    "try:\n",
    "    x4 = Jacobi(A4, b4, 1e-8)\n",
    "    print(\"Example 4 solution:\", x4)\n",
    "except ValueError as e:\n",
    "    print(\"Example 4 error:\", e)\n"
   ]
  },
  {
   "cell_type": "markdown",
   "id": "89c1280e-fa0d-47b3-87cb-9f8aec9f5791",
   "metadata": {},
   "source": [
    "# Interactive Jacobi Solver"
   ]
  },
  {
   "cell_type": "code",
   "execution_count": 107,
   "id": "a6afe1bc-b841-4c90-b0e6-f164fed7e5e6",
   "metadata": {},
   "outputs": [
    {
     "name": "stdout",
     "output_type": "stream",
     "text": [
      "Jacobi Iterative Method Solver\n"
     ]
    },
    {
     "name": "stdin",
     "output_type": "stream",
     "text": [
      "Enter the size of the square matrix A:  h\n"
     ]
    },
    {
     "name": "stdout",
     "output_type": "stream",
     "text": [
      "Please enter a valid integer.\n"
     ]
    },
    {
     "name": "stdin",
     "output_type": "stream",
     "text": [
      "Enter the size of the square matrix A:  5 7 9\n"
     ]
    },
    {
     "name": "stdout",
     "output_type": "stream",
     "text": [
      "Please enter a valid integer.\n"
     ]
    },
    {
     "name": "stdin",
     "output_type": "stream",
     "text": [
      "Enter the size of the square matrix A:  1\n"
     ]
    },
    {
     "name": "stdout",
     "output_type": "stream",
     "text": [
      "Enter the matrix A row by row (space-separated numbers):\n"
     ]
    },
    {
     "name": "stdin",
     "output_type": "stream",
     "text": [
      "Row 1:  1\n",
      "Enter the vector b (space-separated 1 numbers):  1\n",
      "Enter the tolerance epsilon (e.g., 1e-6):  1\n"
     ]
    },
    {
     "name": "stdout",
     "output_type": "stream",
     "text": [
      "\n",
      "Solution vector:\n",
      "x[1] = 1.00000000\n"
     ]
    }
   ],
   "source": [
    "print(\"Jacobi Iterative Method Solver\")\n",
    "\n",
    "# Input matrix size\n",
    "while True:\n",
    "    try:\n",
    "        n = int(input(\"Enter the size of the square matrix A: \"))\n",
    "        if n <= 0:\n",
    "            print(\"Size must be a positive integer.\")\n",
    "            continue\n",
    "        break\n",
    "    except ValueError:\n",
    "        print(\"Please enter a valid integer.\")\n",
    "\n",
    "# Input matrix A row by row\n",
    "print(\"Enter the matrix A row by row (space-separated numbers):\")\n",
    "A = []\n",
    "for i in range(n):\n",
    "    while True:\n",
    "        row = input(f\"Row {i+1}: \").strip().split()\n",
    "        if len(row) != n:\n",
    "            print(f\"Error: Expected {n} numbers, got {len(row)}. Please re-enter the row.\")\n",
    "            continue\n",
    "        try:\n",
    "            row = list(map(float, row))\n",
    "            break\n",
    "        except ValueError:\n",
    "            print(\"Error: Please enter valid numbers.\")\n",
    "    A.append(row)\n",
    "A = np.array(A)\n",
    "\n",
    "# Input vector b\n",
    "while True:\n",
    "    b_input = input(f\"Enter the vector b (space-separated {n} numbers): \").strip().split()\n",
    "    if len(b_input) != n:\n",
    "        print(f\"Error: Expected {n} numbers, got {len(b_input)}. Please re-enter the vector.\")\n",
    "        continue\n",
    "    try:\n",
    "        b = np.array(list(map(float, b_input)))\n",
    "        break\n",
    "    except ValueError:\n",
    "        print(\"Error: Please enter valid numbers.\")\n",
    "\n",
    "# Input tolerance epsilon\n",
    "while True:\n",
    "    eps_input = input(\"Enter the tolerance epsilon (e.g., 1e-6): \").strip()\n",
    "    try:\n",
    "        epsilon = float(eps_input)\n",
    "        if epsilon <= 0:\n",
    "            print(\"Error: Epsilon must be positive.\")\n",
    "            continue\n",
    "        break\n",
    "    except ValueError:\n",
    "        print(\"Error: Please enter a valid floating-point number.\")\n",
    "\n",
    "# Call your Jacobi function (make sure it's defined or imported)\n",
    "try:\n",
    "    x = Jacobi(A, b, epsilon)\n",
    "    print(\"\\nSolution vector:\")\n",
    "    for i, val in enumerate(x, 1):\n",
    "        print(f\"x[{i}] = {val:.8f}\")\n",
    "except ValueError as e:\n",
    "    print(\"Error:\", e)\n"
   ]
  }
 ],
 "metadata": {
  "kernelspec": {
   "display_name": "Python [conda env:base] *",
   "language": "python",
   "name": "conda-base-py"
  },
  "language_info": {
   "codemirror_mode": {
    "name": "ipython",
    "version": 3
   },
   "file_extension": ".py",
   "mimetype": "text/x-python",
   "name": "python",
   "nbconvert_exporter": "python",
   "pygments_lexer": "ipython3",
   "version": "3.12.7"
  }
 },
 "nbformat": 4,
 "nbformat_minor": 5
}
